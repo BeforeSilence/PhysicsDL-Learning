{
  "cells": [
    {
      "cell_type": "markdown",
      "metadata": {
        "id": "qT_RWmTEugu9"
      },
      "source": [
        "# Reducing Numerical Errors with Neural Operators\n",
        "\n",
        "In this example we will target numerical errors that arise in the discretization of a continuous PDE $\\mathcal P^*$, i.e. when we formulate $\\mathcal P$. This approach will demonstrate that, despite the lack of closed-form descriptions, discretization errors often are functions with regular and repeating structures and, thus, can be learned by a discretized neural operator. Once trained, the neural network (NN) can be evaluated locally to improve the solution of a PDE-solver, i.e., to reduce its numerical error. The resulting method is a hybrid one: it will always perform (a coarse) PDE solve, and then improve it at runtime with corrections inferred by an NN.\n",
        "\n",
        "\n",
        "Pretty much all numerical methods contain some form of iterative process: repeated updates over time for explicit solvers, or within a single update step for implicit or steady-state solvers.\n",
        "An example for the second case could be found [here](https://github.com/tum-pbs/CG-Solver-in-the-Loop),\n",
        "but below we'll target the first case, i.e. iterations over time.\n",
        "[[run in colab]](https://colab.research.google.com/github/tum-pbs/pbdl-book/blob/main/diffphys-code-sol.ipynb)\n",
        "\n",
        "\n",
        "## Problem formulation\n",
        "\n",
        "In the context of reducing errors, it's crucial to have a _differentiable physics solver_, so that the learning process can take the updates of the solver into account. This interaction is not possible with supervised- or PINN-based training. Even small inference errors of a supervised NN accumulate over time, and lead to a data distribution that differs from the distribution of the pre-computed data. This distribution shift leads to sub-optimal results, or even cause blow-ups of the solver.\n",
        "\n",
        "In order to learn the error function, we'll consider two different discretizations of the same PDE $\\mathcal P^*$:\n",
        "a _reference_ version, which we assume to be accurate and high fidelity, with a discretized version\n",
        "$\\mathcal P_r$, and solutions $\\mathbf r \\in \\mathscr R$, where $\\mathscr R$ denotes the manifold of solutions of $\\mathcal P_r$.\n",
        "In parallel to this, we have a lower fidelty solver for the same PDE, which we'll refer to as the _source_ version, as this will be the solver that our NN should later on interact with. Analogously,\n",
        "we have $\\mathcal P_s$ with solutions $\\mathbf s \\in \\mathscr S$.\n",
        "After training, we'll obtain a _hybrid_ solver that the source solver $\\mathcal P_s$ in conjunction with a trained operator to obtain improved solutions, i.e., solutions that are closer to the ones produced by $\\mathcal P_r$.\n",
        "\n",
        "```{figure} resources/diffphys-sol-manifolds.jpeg\n",
        "---\n",
        "height: 150px\n",
        "name: diffphys-sol-manifolds\n",
        "---\n",
        "Visual overview of coarse and reference manifolds\n",
        "```\n"
      ]
    },
    {
      "cell_type": "markdown",
      "source": [
        "Once trained, the neural network (NN) can be evaluated locally to improve the solution of a PDE-solver, i.e., to reduce its numerical error.\n",
        "\n",
        "这里其实就说明了，是超分算法类似物，或者说2D-3D的桥梁算法，比如克里金法等等。\n"
      ],
      "metadata": {
        "id": "fKV9IyQurn5Y"
      }
    },
    {
      "cell_type": "markdown",
      "metadata": {
        "id": "tayrJa7_ZzS_"
      },
      "source": [
        "\n",
        "Let's assume $\\mathcal{P}$ advances a solution by a time step $\\Delta t$, and let's denote $n$ consecutive steps by a superscript:\n",
        "$\n",
        "\\newcommand{\\pde}{\\mathcal{P}}\n",
        "\\newcommand{\\pdec}{\\pde_{s}}\n",
        "\\newcommand{\\vc}[1]{\\mathbf{s}_{#1}}\n",
        "\\newcommand{\\vr}[1]{\\mathbf{r}_{#1}}\n",
        "\\newcommand{\\vcN}{\\vs}          \n",
        "\\newcommand{\\project}{\\mathcal{T}}   \n",
        "\\pdec^n ( \\mathcal{T} \\vr{t} ) = \\pdec(\\pdec(\\cdots \\pdec( \\mathcal{T} \\vr{t}  )\\cdots)) .\n",
        "$\n",
        "The corresponding state of the simulation is\n",
        "$\n",
        "\\mathbf{s}_{t+n} = \\mathcal{P}^n ( \\mathcal{T} \\mathbf{r}_{t} ) .\n",
        "$\n",
        "Here we assume a mapping operator $\\mathcal{T}$ exists that transfers a reference solution to the source manifold. This could, e.g., be a simple downsampling operation.\n",
        "Especially for longer sequences, i.e. larger $n$, the source state\n",
        "$\\newcommand{\\vc}[1]{\\mathbf{s}_{#1}} \\vc{t+n}$\n",
        "will deviate from a corresponding reference state\n",
        "$\\newcommand{\\vr}[1]{\\mathbf{r}_{#1}} \\vr{t+n}$.\n",
        "This is what we will address with an NN-based operator in the following.\n",
        "\n",
        "As before, we'll use an $L^2$-norm to quantify the deviations, i.e.,\n",
        "an error function $\\newcommand{\\loss}{e}\n",
        "\\newcommand{\\corr}{\\mathcal{C}}\n",
        "\\newcommand{\\vc}[1]{\\mathbf{s}_{#1}}\n",
        "\\newcommand{\\vr}[1]{\\mathbf{r}_{#1}}\n",
        "\\loss (\\vc{t},\\mathcal{T} \\vr{t})=\\Vert\\vc{t}-\\mathcal{T} \\vr{t}\\Vert_2$.\n",
        "Our learning goal is to train at a correction operator\n",
        "$\\mathcal{C} ( \\mathbf{s} )$ such that\n",
        "a solution to which the correction is applied has a lower error than the original unmodified (source)\n",
        "solution: $\\newcommand{\\loss}{e}\n",
        "\\newcommand{\\corr}{\\mathcal{C}}\n",
        "\\newcommand{\\vr}[1]{\\mathbf{r}_{#1}}\n",
        "\\loss ( \\mathcal{P}_{s}( \\corr (\\mathcal{T} \\vr{t}) ) , \\mathcal{T} \\vr{t+1}) < \\loss ( \\mathcal{P}_{s}( \\mathcal{T} \\vr{t} ), \\mathcal{T} \\vr{t+1})$.\n",
        "\n",
        "The correction operator $\\newcommand{\\vcN}{\\mathbf{s}} \\newcommand{\\corr}{\\mathcal{C}} \\corr (\\vcN | \\theta)$ is represented\n",
        "as a deep neural network with weights $\\theta$ and receives the state $\\mathbf{s}$ to infer an additive correction field with the same dimension.\n",
        "To distinguish the original states $\\mathbf{s}$ from the corrected ones, we'll denote the latter with an added tilde $\\tilde{\\mathbf{s}}$.\n",
        "The overall learning goal now becomes\n",
        "\n",
        "$$\n",
        "\\newcommand{\\corr}{\\mathcal{C}}  \n",
        "\\newcommand{\\vr}[1]{\\mathbf{r}_{#1}}\n",
        "\\text{arg min}_\\theta \\big( ( \\mathcal{P}_{s} \\corr )^n ( \\mathcal{T} \\vr{t} ) - \\mathcal{T} \\vr{t+n} \\big)^2\n",
        "$$\n",
        "\n",
        "To simplify the notation, we've dropped the sum over different samples here (the $i$ from previous versions).\n",
        "A crucial bit that's easy to overlook in the equation above, is that the correction depends on the modified states, i.e.\n",
        "it is a function of\n",
        "$\\tilde{\\mathbf{s}}$, so we have\n",
        "$\\newcommand{\\vctN}{\\tilde{\\mathbf{s}}} \\newcommand{\\corr}{\\mathcal{C}} \\corr (\\vctN | \\theta)$.\n",
        "These states actually evolve over time when training. They don't exist beforehand.\n",
        "\n",
        "**TL;DR**:\n",
        "We'll train a neural operator $\\mathcal{C}$ to reduce the numerical errors of a simulator with respect to a more accurate reference. It's crucial to have the _source_ solver realized as a differential physics operator, such that it provides gradients for an improved training of $\\mathcal{C}$.\n",
        "\n",
        "<br>\n",
        "\n",
        "---\n"
      ]
    },
    {
      "cell_type": "markdown",
      "source": [
        "注，上面这段话中，用于训练的参考状态是：\n",
        "\n",
        "**参考状态**\n",
        "\n",
        "𝑟\n",
        "𝑡\n",
        "+\n",
        "𝑛\n",
        "r\n",
        "t+n\n",
        "\t​\n",
        "\n",
        "通常是来自于一个更精确、可信的模拟或实际数据。它可能来自以下几种来源：\n",
        "\n",
        "高精度模拟：可能通过使用一种比当前模拟更精确的数值方法或更高分辨率的模拟获得。例如，如果当前模拟使用的是一个低精度的模型，参考状态可能来自一个使用更高精度或更高分辨率模拟的结果。\n",
        "\n",
        "实验数据：在某些情况下，参考状态可能来自实际的实验数据，这些数据被认为是“真值”或近似“真值”的结果。例如，在物理学或工程学中，实际的实验测量可以作为模拟的参考状态。\n",
        "\n",
        "理论解：有时候，参考状态也可能来自一些已知的理论解，尤其是当模拟的目标系统已经有明确的理论描述时。\n",
        "\n",
        "源模拟器是模拟什么的？\n",
        "\n",
        "**源模拟器**指的是原始的模拟算子\n",
        "𝑃\n",
        "P，它用于产生当前的模拟解。源模拟器的作用通常是模拟一个物理系统或某种现象，以下是几种常见的例子：\n",
        "\n",
        "物理模拟：比如天气预报模型、流体动力学模拟、气候变化预测等。这些模拟器通过求解相关的偏微分方程，模拟物理过程的演化（如温度、速度、压力等随时间的变化）。\n",
        "\n",
        "工程模拟：例如结构力学模拟、电路模拟等。模拟器用于预测工程结构在不同条件下的行为，如建筑结构在不同载荷下的响应。\n",
        "\n",
        "化学过程模拟：模拟化学反应、分子动力学等，以预测分子、原子之间的互动和化学反应的演化。\n",
        "\n",
        "金融模拟：模拟股市、资产管理等金融系统的演化过程，用于风险预测和策略优化。\n",
        "\n",
        "源模拟器的主要作用是根据一定的初始条件和规则，模拟出一个系统的动态演化过程，得到的解通常是模型或系统的近似解。然而，由于模型本身的限制或计算资源的限制，这些模拟解可能与真实的物理过程或精确解有所偏差。因此，文中的修正算子\n",
        "𝐶\n",
        "(\n",
        "𝑠\n",
        "∣\n",
        "𝜃\n",
        ")\n",
        "C(s∣θ) 就是通过学习来减少这种偏差，提高模拟结果的准确性。"
      ],
      "metadata": {
        "id": "hKOja3cNvwmv"
      }
    },
    {
      "cell_type": "markdown",
      "metadata": {
        "id": "hPgwGkzYdIww"
      },
      "source": [
        "## Getting started with the implementation\n",
        "\n",
        "The following replicates an experiment from [Solver-in-the-loop: learning from differentiable physics to interact with iterative pde-solvers](https://ge.in.tum.de/publications/2020-um-solver-in-the-loop/) {cite}`um2020sol`, further details can be found in section B.1 of the [appendix](https://arxiv.org/pdf/2007.00016.pdf) of the paper.\n",
        "\n",
        "First, let's import the necessary libraries, most importantly [phiflow](https://tum-pbs.github.io/PhiFlow/) and [PyTorch](https://pytorch.org/), and let's get the device handling out of the way, so that we can focus on the _interesting_ parts..."
      ]
    },
    {
      "cell_type": "code",
      "execution_count": 2,
      "metadata": {
        "id": "WJPPGTuFrB3e",
        "outputId": "26510296-135c-4554-c8ba-b98615ac12b2",
        "colab": {
          "base_uri": "https://localhost:8080/"
        }
      },
      "outputs": [
        {
          "output_type": "stream",
          "name": "stdout",
          "text": [
            "\u001b[?25l     \u001b[90m━━━━━━━━━━━━━━━━━━━━━━━━━━━━━━━━━━━━━━━━\u001b[0m \u001b[32m0.0/207.4 kB\u001b[0m \u001b[31m?\u001b[0m eta \u001b[36m-:--:--\u001b[0m\r\u001b[2K     \u001b[90m━━━━━━━━━━━━━━━━━━━━━━━━━━━━━━━━━━━━━━━\u001b[0m \u001b[32m207.4/207.4 kB\u001b[0m \u001b[31m7.4 MB/s\u001b[0m eta \u001b[36m0:00:00\u001b[0m\n",
            "\u001b[?25h  Preparing metadata (setup.py) ... \u001b[?25l\u001b[?25hdone\n",
            "\u001b[2K     \u001b[90m━━━━━━━━━━━━━━━━━━━━━━━━━━━━━━━━━━━━━━\u001b[0m \u001b[32m356.7/356.7 kB\u001b[0m \u001b[31m20.8 MB/s\u001b[0m eta \u001b[36m0:00:00\u001b[0m\n",
            "\u001b[?25h  Preparing metadata (setup.py) ... \u001b[?25l\u001b[?25hdone\n",
            "  Building wheel for phiflow (setup.py) ... \u001b[?25l\u001b[?25hdone\n",
            "  Building wheel for phiml (setup.py) ... \u001b[?25l\u001b[?25hdone\n",
            "  Installing build dependencies ... \u001b[?25l\u001b[?25hdone\n",
            "  Getting requirements to build wheel ... \u001b[?25l\u001b[?25hdone\n",
            "  Preparing metadata (pyproject.toml) ... \u001b[?25l\u001b[?25hdone\n",
            "  Building wheel for pbdl (pyproject.toml) ... \u001b[?25l\u001b[?25hdone\n"
          ]
        }
      ],
      "source": [
        "try:\n",
        "    import google.colab  # to ensure that we are inside colab\n",
        "    !pip install --upgrade --quiet phiflow==3.4\n",
        "    #!pip install --upgrade --quiet git+https://github.com/tum-pbs/PhiFlow@develop\n",
        "\n",
        "    # for pbdl-dataset:\n",
        "    !pip install --upgrade --quiet git+https://github.com/tum-pbs/pbdl-dataset\n",
        "\n",
        "except ImportError:\n",
        "    print(\"This notebook is running locally, please make sure the necessary pip packages are installed.\")\n",
        "    pass"
      ]
    },
    {
      "cell_type": "code",
      "execution_count": 4,
      "metadata": {
        "colab": {
          "base_uri": "https://localhost:8080/"
        },
        "id": "JwZudtWauiGa",
        "outputId": "a968c1d3-b4c8-4972-c4c5-900e4cda58c9"
      },
      "outputs": [
        {
          "output_type": "stream",
          "name": "stdout",
          "text": [
            "Using device: cuda:0\n"
          ]
        }
      ],
      "source": [
        "import os, sys, logging, argparse, pickle, glob, random, pylab, time\n",
        "from tqdm import tqdm\n",
        "from phi.torch.flow import *\n",
        "\n",
        "random.seed(42)\n",
        "np.random.seed(42)\n",
        "\n",
        "#math.seed(42) # phiflow seed (note, this can cause an error on some backends; activate if possible)\n",
        "math.set_global_precision(32) # single precision\n",
        "\n",
        "USE_CPU = 0\n",
        "TORCH.set_default_device(\"GPU\")\n",
        "device = 'cuda:0' if torch.cuda.is_available() else 'cpu'\n",
        "if USE_CPU > 0:\n",
        "    device = 'cpu'\n",
        "device = torch.device(device)\n",
        "print(\"Using device: \"+str(device))"
      ]
    },
    {
      "cell_type": "markdown",
      "metadata": {
        "id": "RY1F4kdWPLNG"
      },
      "source": [
        "And while we're at it, we also set the random seed - obviously, 42 is the ultimate choice here 🙂"
      ]
    },
    {
      "cell_type": "markdown",
      "metadata": {
        "id": "OhnzPdoww11P"
      },
      "source": [
        "## Simulation setup\n",
        "\n",
        "Now we set up the _source_ simulation $\\mathcal{P}_{s}$.\n",
        "Note that we won't deal with\n",
        "$\\mathcal{P}_{r}$\n",
        "in this notebook: the downsampled reference data is from the high-fidelty solve is already contained in the training data set. It was generated with a four times finer spatial and temporal discretization. Below we're focusing on the interaction of the source solver and the NN.\n",
        "\n",
        "The `KarmanFlow` solver below simulates a relatively standard Navier-Stokes wake flow case with a spherical obstacle in a rectangular domain, and an explicit viscosity solve to obtain different Reynolds numbers. This is the geometry of the setup:\n",
        "\n",
        "```{figure} resources/diffphys-sol-domain.png\n",
        "---\n",
        "height: 200px\n",
        "name: diffphys-sol-domain\n",
        "---\n",
        "Domain setup for the wake flow case (sizes in the imlpementation are using an additional factor of 100).\n",
        "```\n",
        "\n",
        "The solver applies inflow boundary conditions for the y-velocity with a pre-multiplied mask (`vel_BcMask`), to set the y components at the bottom of the domain during the simulation step. This mask is created with the `HardGeometryMask` from phiflow, which initializes the spatially shifted entries for the components of a staggered grid correctly. The simulation step is quite straight forward: it computes contributions for viscosity, inflow, advection and finally makes the resulting motion divergence free via an implicit pressure solve:"
      ]
    },
    {
      "cell_type": "code",
      "execution_count": 5,
      "metadata": {
        "id": "6WNMcdWUw4EP"
      },
      "outputs": [],
      "source": [
        "RE_FAC_SOL = 10/(128*128) # factor to compensate for the original scaling from the original solver-in-the-loop paper\n",
        "\n",
        "class KarmanFlow():\n",
        "    def __init__(self, domain):\n",
        "        self.domain = domain\n",
        "\n",
        "        self.vel_BcMask = self.domain.staggered_grid( HardGeometryMask( Box(y=(None, 5), x=None) ) )\n",
        "\n",
        "        self.inflow = self.domain.scalar_grid(Box(y=(5,10), x=(25,75)) ) # scale with domain if necessary!\n",
        "        self.obstacles = [Obstacle(Sphere(center=tensor([50, 50], channel(vector=\"y,x\")), radius=10))]\n",
        "\n",
        "    def step(self, marker_in, velocity_in, Re, res, buoyancy_factor=0, dt=1.0):\n",
        "        velocity = velocity_in\n",
        "        marker   = marker_in\n",
        "        Re_phiflow = Re / RE_FAC_SOL # rescale for phiflow\n",
        "\n",
        "        # viscosity\n",
        "        velocity = phi.flow.diffuse.explicit(u=velocity, diffusivity=1.0/Re_phiflow*dt*res*res, dt=dt)\n",
        "\n",
        "        # inflow boundary conditions\n",
        "        velocity = velocity*(1.0 - self.vel_BcMask) + self.vel_BcMask * (1,0)\n",
        "\n",
        "        # advection\n",
        "        marker = advect.semi_lagrangian(marker+ 1. * self.inflow, velocity, dt=dt)\n",
        "        velocity = advected_velocity = advect.semi_lagrangian(velocity, velocity, dt=dt)\n",
        "\n",
        "        # mass conservation (pressure solve)\n",
        "        pressure = None\n",
        "        velocity, pressure = fluid.make_incompressible(velocity, self.obstacles, Solve('CG', 1e-3))\n",
        "        self.solve_info = { 'pressure': pressure, 'advected_velocity': advected_velocity }\n",
        "\n",
        "        return [marker, velocity]\n",
        "\n"
      ]
    },
    {
      "cell_type": "markdown",
      "metadata": {
        "id": "mP-5ZNNy1FoE"
      },
      "source": [
        "Note that the `marker` density here denotes a passively advected marker field, and not the density of the fluid. Below we'll only be focusing on the velocity for the correction task. The marker density is tracked purely for visualization purposes.\n"
      ]
    },
    {
      "cell_type": "markdown",
      "metadata": {
        "id": "RYFUGICgxk0K"
      },
      "source": [
        "## Network and transfer functions\n",
        "\n",
        "We'll also define a simple neural networks to represent the operator\n",
        "$\\newcommand{\\vcN}{\\mathbf{s}} \\newcommand{\\corr}{\\mathcal{C}} \\corr$. We'll use fully convolutional networks, i.e. networks without any fully-connected (MLP) layers. We'll use phiflow's network tools to set up a `conv_net` with a given number of layers as specified in the `layers` list.\n",
        "The inputs to the network are 3 fields:\n",
        "- 2 fields with x,y velocity\n",
        "- the Reynolds number as constant channel.\n",
        "\n",
        "The output is:\n",
        "- a 2 component field containing the x,y velocity.\n",
        "\n",
        "In the conv-net, the input dimensions are determined from input tensor (it has three channels: u,v, and Re). Then we process the data via the sequence of conv layers and activations with 32 (and 48) features each, before reducing to 2 channels in the output. The code below also re-initializes the convolutions with a uniform Xavier initializer that is downscaled with a gain of `0.1`. The simplifies training by avoiding overly large values at the beginning. With it, we can direclty activate unrolling multiple steps. Without it, we'd need to add a curriculum and make sure the network is trained for a bit to find a suitable range for the corrections, before being applied to longer sequences via unrolling.\n",
        "\n",
        "While we're at it, we (of course) also checking the number of paramters in the network. This is a crucial metric for the approximate computational cost of the NN."
      ]
    },
    {
      "cell_type": "code",
      "execution_count": 6,
      "metadata": {
        "colab": {
          "base_uri": "https://localhost:8080/"
        },
        "id": "qIrWYTy6xscA",
        "outputId": "f8cc67c1-2a84-4e4d-8723-ebb192ed8d82"
      },
      "outputs": [
        {
          "output_type": "stream",
          "name": "stdout",
          "text": [
            "ResNet(\n",
            "  (Res_in): ResNetBlock(\n",
            "    (sample_input): Conv2d(3, 32, kernel_size=(1, 1), stride=(1, 1))\n",
            "    (bn_sample): Identity()\n",
            "    (bn1): Identity()\n",
            "    (conv1): Conv2d(3, 32, kernel_size=(3, 3), stride=(1, 1), padding=(1, 1))\n",
            "    (bn2): Identity()\n",
            "    (conv2): Conv2d(32, 32, kernel_size=(3, 3), stride=(1, 1), padding=(1, 1))\n",
            "  )\n",
            "  (Res1): ResNetBlock(\n",
            "    (sample_input): Identity()\n",
            "    (bn_sample): Identity()\n",
            "    (bn1): Identity()\n",
            "    (conv1): Conv2d(32, 32, kernel_size=(3, 3), stride=(1, 1), padding=(1, 1))\n",
            "    (bn2): Identity()\n",
            "    (conv2): Conv2d(32, 32, kernel_size=(3, 3), stride=(1, 1), padding=(1, 1))\n",
            "  )\n",
            "  (Res2): ResNetBlock(\n",
            "    (sample_input): Identity()\n",
            "    (bn_sample): Identity()\n",
            "    (bn1): Identity()\n",
            "    (conv1): Conv2d(32, 32, kernel_size=(3, 3), stride=(1, 1), padding=(1, 1))\n",
            "    (bn2): Identity()\n",
            "    (conv2): Conv2d(32, 32, kernel_size=(3, 3), stride=(1, 1), padding=(1, 1))\n",
            "  )\n",
            "  (Res_out): Conv2d(32, 2, kernel_size=(1, 1), stride=(1, 1))\n",
            ")\n",
            "Total number of trainable parameters: 47330\n"
          ]
        }
      ],
      "source": [
        "layers = [32,32,32] # small\n",
        "#layers = [32,48,48,48,32] # uncomment for a somewhat larger and deeper network\n",
        "#network = conv_net(in_channels=3,out_channels=2,layers=layers) # a simpler variant\n",
        "network = res_net(in_channels=3,out_channels=2,layers=layers)\n",
        "print(network)\n",
        "\n",
        "# reinit\n",
        "import torch.nn as nn\n",
        "for m in network.modules():\n",
        "    if isinstance(m, nn.Conv2d):\n",
        "        nn.init.xavier_uniform_(m.weight, gain=0.1)\n",
        "\n",
        "print(\"Total number of trainable parameters: \"+ str( sum(p.numel() for p in network.parameters()) ))"
      ]
    },
    {
      "cell_type": "markdown",
      "source": [
        "输入是X的速度场+Y的速度场+雷诺数（常数通道），输出是一个包含两个子项的向量。"
      ],
      "metadata": {
        "id": "rWChmwHqfBUu"
      }
    },
    {
      "cell_type": "markdown",
      "metadata": {
        "id": "ew-MgPSlyLW-"
      },
      "source": [
        "Next, we're defining transfer functions which are pretty important: they don't modify any content, but transform the simulation state into suitable data structures for the different software packages that are used: staggered grids for the solver, pytorch tensors for the NN, and another helper to turn the numpy output of the dataloader into phiflow grids and values that can easily be used in the NS solver.\n",
        "\n",
        "The `to_phiflow` function takes a pytorch tensor `batch` and transforms the two relevant channels (1 and 2 in the second dimension for x and y) into a staggered grid for phiflow. The only caveat here is the size of the arrays involved:\n",
        "due to the closed and open boundaries and the staggered grid, phiflow expects arrays of size\n",
        "`[64, 31]` and  `[65, 32]` for x and y, respectively. In phiflow's `math.tensor` call we then have to tell phiflow about the batch and spatial dimensions.\n",
        "\n",
        "The `to_pytorch` function receives a small list with `[marker,velocity]`, and\n",
        "uses the two vector components of the staggered grid velocity via `vector['x']` and `vector['y']` to discard the outermost layer of the velocity field grids. This gives two tensors of equal size that are stacked along the `channels` dimension.\n",
        "It also adds a constant channel via `math.ones` that is multiplied by the desired Reynolds number in `ext_const_channel` onto the stack. The resulting stack of grids is turned into a single pytorch tensor via `native(order='batch,channels,y,x')` and represents the input to the neural network.\n",
        "\n",
        "The last function is a helper to transform the output of the dataloader into data structurs for phiflow.\n",
        "The data loader produces numpy arrays, and they're transformed into a velocity grid with the `to_phiflow` function from above. At the same time, we're normalizing the Reynolds number for the NN operator, and we keep the original one as a scalar value for the phiflow solver, as the latter uses \"physical units\", in contrast to the network. Each batch for training will contain multiple samples with the same Reynolds number. This is taken care of by the dataloader.\n"
      ]
    },
    {
      "cell_type": "code",
      "execution_count": 7,
      "metadata": {
        "id": "hhGFpTjGyRyg"
      },
      "outputs": [],
      "source": [
        "def to_phiflow(batch):\n",
        "    vx = batch[:,1,:-1,:-1]\n",
        "    vy = batch[:,2,:,:] # fine\n",
        "\n",
        "    #print(\"v_dims \"+str([vx.shape,vy.shape])) # example for debugging\n",
        "    # v_dims should be vx [torch.Size([B, 64, 31]),  vy torch.Size([B, 65, 32])]\n",
        "\n",
        "    vel = domain.staggered_grid( math.stack( [\n",
        "                            math.tensor(vy, math.batch('batch'), math.spatial('y, x')),\n",
        "                            math.tensor(vx, math.batch('batch'), math.spatial('y, x')),\n",
        "                        ], math.dual(vector=\"y,x\")\n",
        "                    ) )\n",
        "    return vel\n",
        "\n",
        "def to_pytorch(marker_vel, Re):\n",
        "    # align the sides the staggered velocity grid making its size the same as the centered grid\n",
        "    grid = math.stack(\n",
        "        [\n",
        "            math.pad( marker_vel[1].vector['x'].values, {'x':(0,1)} , math.extrapolation.ZERO), # x component\n",
        "            marker_vel[1].vector['y'].y[:-1].values,                                            # y component\n",
        "            math.ones(marker_vel[0].shape)*Re                                                   # constant Re\n",
        "        ],\n",
        "        math.channel('channels')\n",
        "    ).native(order='batch,channels,y,x')\n",
        "    return grid\n",
        "\n",
        "def to_solver(inputs):\n",
        "    marker_in = inputs[:,0,:-1,:]\n",
        "    marker_in = domain.scalar_grid( math.tensor(marker_in, math.batch('batch'), math.spatial('y, x')) )\n",
        "    v_in = to_phiflow(inputs)\n",
        "    Re = math.tensor(inputs[0,3, 0,0].detach()) # Scalar , get first index 0,0\n",
        "\n",
        "    Re_norm = (Re - math.tensor(DATA_RE_MEAN)) / math.tensor(DATA_RE_STD)\n",
        "    Re_norm = float(Re_norm.native().detach()) # we just need a single number\n",
        "\n",
        "    return marker_in, v_in, Re, Re_norm\n"
      ]
    },
    {
      "cell_type": "markdown",
      "metadata": {
        "id": "VngMwN_9y00S"
      },
      "source": [
        "---\n",
        "\n",
        "## Training setup\n",
        "\n",
        "Now we also need to take care to set up the training, i.e. intialize data sets and optimizers. The latter is relatively easy, we'll use an Adam optimizer with a given learning rate, and this is also a good time to define the batch size (3 is a good default here).\n"
      ]
    },
    {
      "cell_type": "code",
      "execution_count": 8,
      "metadata": {
        "id": "Dfwd4TnqN1Tn"
      },
      "outputs": [],
      "source": [
        "LEARNING_RATE = 1e-3\n",
        "optimizer = adam(network, LEARNING_RATE)\n",
        "\n",
        "# one of the most crucial parameters: how many simulation steps to look into the future in each training step\n",
        "MSTEPS = 4\n",
        "\n",
        "BATCH_SIZE = 3"
      ]
    },
    {
      "cell_type": "markdown",
      "metadata": {
        "id": "bIWnyPYlz8q7"
      },
      "source": [
        "The most important and interesting parameter is `MSTEPS`. It defines the number of simulation steps that are unrolled at each training iteration. This directly influences the runtime of each training step, as we first have to simulate all steps forward, and then backpropagate the gradient through all `MSTEPS` simulation steps interleaved with the NN evaluations. However, this is where we'll receive important feedback in terms of gradients how the inferred corrections actually influence a running simulation. Hence, larger `msteps` are typically better. Ideally, the training also increases the number of `MSTEPS` over time in the form of a curriculum, but we'll omit that to keep the code simpler.\n",
        "\n",
        "For the training data itself, we can use PBDL's data loader class, which automatically downloads the data from HuggingFace (if necessary), and returns a class that we can easily iterate over to get a new batch for training. Here we need to specify the `BATCH_SIZE`, and we select simulations 0 to 5 from the dataset, in order to keep cases 6 to 9 for testing later on. The first 6 contain an intermediate range of Reynolds numbers, so that we can keep some new ones outside of this range for testing generalization later on. The dataloader also needs to provide enough steps of the ground truth reference to compute the loss for the full unrolled trajectory. This is ensured via `time_steps=MSTEPS+1, intermediate_time_steps=True`."
      ]
    },
    {
      "cell_type": "markdown",
      "source": [
        "这里的MSTEPS是指在仿真时间固定的情况下，这段时间会被离散为几个计算步进行计算，显然越多计算越精确，但是呢，计算耗时也就越长。\n",
        "\n",
        "time_steps 这个是为了确保监督数据和推理数据对齐，因为仿真器计算4步，实际是获得第5时刻的结果，所以需要读入+1的数据来确保对齐。\n"
      ],
      "metadata": {
        "id": "0SGpQJR7k_DU"
      }
    },
    {
      "cell_type": "code",
      "execution_count": 9,
      "metadata": {
        "colab": {
          "base_uri": "https://localhost:8080/"
        },
        "id": "59EBdEdj0QR2",
        "outputId": "d9e3d3ac-a815-4a1d-e3b8-5e2de5c1cd9d"
      },
      "outputs": [
        {
          "output_type": "stream",
          "name": "stdout",
          "text": [
            "\u001b[Kdownload completed\t ━━━━━━━━━━━━━━━━━━━━━━━━━━━━━━━━━━━━━━━━━━━━━━━━━━\u001b[38;5;240m\u001b[96m 100%\u001b[0m\n",
            "\u001b[96m\u001b[1mSuccess:\u001b[22m Loaded solver-in-the-loop-wake-flow with 6 simulations (6 selected) and 496 samples each.\u001b[0m\n",
            "\u001b[1mInfo:\u001b[22m No precomputed normalization data found (or not complete). Calculating data...\u001b[0m\n",
            "[np.float64(1025.390625), np.float64(1057.4417884622908)]\n"
          ]
        }
      ],
      "source": [
        "import pbdl\n",
        "import pbdl.torch.loader\n",
        "\n",
        "dataloader = pbdl.torch.loader.Dataloader(\"solver-in-the-loop-wake-flow\", MSTEPS, shuffle=True, sel_sims=[0,1,2,3,4,5],\n",
        "                                          batch_size=BATCH_SIZE, normalize_const=\"std\", normalize_data=\"std\", intermediate_time_steps=True)\n",
        "\n",
        "# workaround for using un-normalized and normalized values in one script:\n",
        "#    save the normalization constants of the Reynolds number conditioning , then turn off (norm=None);\n",
        "#    the Re values will be normalized manually later on\n",
        "DATA_RE_MEAN = dataloader.dataset.norm_strat_const.const_mean[0][0]\n",
        "DATA_RE_STD  = dataloader.dataset.norm_strat_const.const_std[0][0]\n",
        "print([DATA_RE_MEAN,DATA_RE_STD])\n",
        "dataloader.dataset.norm_strat_const = None\n",
        "dataloader.dataset.norm_strat_data = None"
      ]
    },
    {
      "cell_type": "markdown",
      "metadata": {
        "id": "0N92RooWPzeA"
      },
      "source": [
        "Additionally, we defined several global variables to control the training and the simulation in the next code cell.\n",
        "\n",
        "The fluid solver object is called `simulator` below. In order to easily create grids in phiflow it uses a phiflow `Domain` object, which mostly exists for convenience purposes: it stores resolution, physical size, and boundary conditions of the domain. This information needs to be passed to every grid, and hence it's convenient to have it in one place in the form of the `Domain`. For the setup described above, we need different boundary conditions along x and y: closed walls, and free flow in and out of the domain, respecitvely."
      ]
    },
    {
      "cell_type": "code",
      "execution_count": 10,
      "metadata": {
        "colab": {
          "base_uri": "https://localhost:8080/"
        },
        "id": "EjgkdCzKP2Ip",
        "outputId": "60ef0f0b-0605-4df7-c549-3b56b3303a13",
        "scrolled": true
      },
      "outputs": [
        {
          "output_type": "stream",
          "name": "stderr",
          "text": [
            "/tmp/ipython-input-1641432920.py:8: FutureWarning: Domain (phi.physics._boundaries) is deprecated and will be removed in a future release.\n",
            "Please create grids directly, replacing the domain with a dict, e.g.\n",
            "    domain = dict(x=64, y=128, bounds=Box(x=1, y=1))\n",
            "    grid = CenteredGrid(0, **domain)\n",
            "  from phi.physics._boundaries import Domain, OPEN, STICKY as CLOSED\n",
            "/tmp/ipython-input-1641432920.py:15: DeprecationWarning: Domain is deprecated and will be removed in a future release. Use a dict instead, e.g. CenteredGrid(values, extrapolation, **domain_dict)\n",
            "  domain = phi.physics._boundaries.Domain(y=SOURCE_RES[0], x=SOURCE_RES[1], boundaries=BNDS, bounds=Box(y=2*LENGTH, x=LENGTH))\n",
            "/tmp/ipython-input-1641432920.py:15: FutureWarning: Domain is deprecated and will be removed in a future release. Use a dict instead, e.g. CenteredGrid(values, extrapolation, **domain_dict)\n",
            "  domain = phi.physics._boundaries.Domain(y=SOURCE_RES[0], x=SOURCE_RES[1], boundaries=BNDS, bounds=Box(y=2*LENGTH, x=LENGTH))\n",
            "/tmp/ipython-input-548821637.py:7: DeprecationWarning: HardGeometryMask and SoftGeometryMask are deprecated. Use field.mask or field.resample instead.\n",
            "  self.vel_BcMask = self.domain.staggered_grid( HardGeometryMask( Box(y=(None, 5), x=None) ) )\n"
          ]
        }
      ],
      "source": [
        "# this is the actual resolution in terms of cells for phiflow (not too crucial)\n",
        "SOURCE_RES = [64,32]\n",
        "\n",
        "# this is the physical size in terms of abstract units for the bounding box of the domain (it's important for conversions between computational and physical units)\n",
        "LENGTH = 100.\n",
        "\n",
        "# for readability\n",
        "from phi.physics._boundaries import Domain, OPEN, STICKY as CLOSED\n",
        "\n",
        "BNDS = {\n",
        "    'y':(phi.physics._boundaries.OPEN,  phi.physics._boundaries.OPEN) ,\n",
        "    'x':(phi.physics._boundaries.STICKY,phi.physics._boundaries.STICKY)\n",
        "}\n",
        "\n",
        "domain = phi.physics._boundaries.Domain(y=SOURCE_RES[0], x=SOURCE_RES[1], boundaries=BNDS, bounds=Box(y=2*LENGTH, x=LENGTH))\n",
        "simulator = KarmanFlow(domain=domain)"
      ]
    },
    {
      "cell_type": "markdown",
      "metadata": {
        "id": "AbpNPzplQZMF"
      },
      "source": [
        "## Interleaving simulation and NN\n",
        "\n",
        "In order to efficiently run training with non-trivial simulations, it's a good idea to keep the runtime in mind. For efficient runs it's especially important to involve the GPUs used for training, and keep the data on the GPU as much as possible. For phiflow, this can largely be achieved by jit-compiling the central steps, and in the next code cell we'll do this for the Navier-Stokes simulation step. It involves an implicit pressure solve, among others, and is potentially called multiple times for each forward and backwards pass. Hence this is a good candidate for jit-compilation. (Try removing the `@jit_compile` statement to experience the slow-down yourself.)\n"
      ]
    },
    {
      "cell_type": "code",
      "execution_count": 11,
      "metadata": {
        "id": "5VCAzofU1FoH"
      },
      "outputs": [],
      "source": [
        "@jit_compile\n",
        "def simulation_step(marker,velocity,Re,resolution):\n",
        "    m,v = simulator.step(\n",
        "        marker_in=marker,\n",
        "        velocity_in=velocity,\n",
        "        Re=Re, res=resolution\n",
        "    )\n",
        "    return m,v"
      ]
    },
    {
      "cell_type": "markdown",
      "metadata": {
        "id": "HWpyoUKE1FoH"
      },
      "source": [
        "Next comes the **most crucial** step in the whole setup: we define a function that encapsulates the chain of simulation steps and network evaluations in each training step. With the helper functions we've set up so far, it's actually pretty simple: we loop `MSTEPS` times, calling the simulator via `simulator_step` for an input state, and afterwards evaluate the correction operator via `network(to_pytorch(...))`. The NN correction is then added to the last simulation state in the `prediction` list of states. This list keeps around the marker density and velocity for each time step.\n",
        "\n",
        "Note that apart from the Reynolds number, we're not normalizing the states themselves as they're already in the -1 to 1 range. For other simulations it would be a good idea to normalize before invoking the network, and de-normalizing afterwards for the subsequent physics solving step."
      ]
    },
    {
      "cell_type": "code",
      "source": [],
      "metadata": {
        "id": "1CVs8_vUn-bR"
      },
      "execution_count": null,
      "outputs": []
    },
    {
      "cell_type": "markdown",
      "source": [
        "下面这个训练过程很明确，首先是MSTEP的仿真构筑了总的循环，每一步会先进行仿真，然后由网络 network()预测修正值，进行解包后把预测值加回到原有的v2中，然后计算loss时，直接使用v2 + v_corr 与 target的L2 Loss\n",
        "\n",
        "值得指出的一点是，这里说的粗糙仿真并非是空间意义的粗糙，而是时间意义（仅计算三步，扩大了单步对应的时间长度）的粗糙。"
      ],
      "metadata": {
        "id": "2k2apGCFmlsV"
      }
    },
    {
      "cell_type": "code",
      "execution_count": 12,
      "metadata": {
        "id": "KFp4eUta1FoH"
      },
      "outputs": [],
      "source": [
        "def training_step(inputs_targets):\n",
        "    [inputs, targets] = inputs_targets\n",
        "    marker_in, v_in, Re, Re_norm = to_solver(inputs)\n",
        "    prediction = [ [marker_in,v_in] ]\n",
        "    loss = 0\n",
        "\n",
        "    for i in range(MSTEPS):\n",
        "        m2,v2 = simulation_step(\n",
        "            marker=prediction[-1][0],\n",
        "            velocity=prediction[-1][1],\n",
        "            Re=Re, resolution=SOURCE_RES[1]\n",
        "        )\n",
        "\n",
        "        net_in = to_pytorch([m2,v2],Re_norm)\n",
        "        net_out = network(net_in)\n",
        "\n",
        "        cy = net_out[:,1,:,:] # pad y\n",
        "        cy = torch.nn.functional.pad(input=cy, pad=(0,0, 0,1), mode='constant', value=0)\n",
        "        cx = net_out[:,0,:,:-1]\n",
        "\n",
        "        v_corr = domain.staggered_grid( math.stack( [\n",
        "                            math.tensor(cy, math.batch('batch'), math.spatial('y, x')),\n",
        "                            math.tensor(cx, math.batch('batch'), math.spatial('y, x')),\n",
        "                        ], math.dual(vector=\"y,x\")\n",
        "                    ) )\n",
        "\n",
        "        prediction += [ [domain.scalar_grid(m2) , v2 + v_corr] ]\n",
        "        vdiff = prediction[-1][1] - to_phiflow(targets[:,i,...])\n",
        "        loss += field.l2_loss(vdiff)\n",
        "\n",
        "    return loss, prediction\n"
      ]
    },
    {
      "cell_type": "markdown",
      "metadata": {
        "id": "Sk82sacv1FoH"
      },
      "source": [
        "The `training_step` function above also directly evaluates and returns the loss. Here, we simply use an $L^2$ loss over the grids (in phiflow `fields`) for the whole sequence, i.e. over the unrolled `msteps`. In `vdiff` we're simply computing the difference between the targets and the current prediction, and then compute its `l2_loss`.\n",
        "\n",
        "With the training step, the training is quite simple: all that's left to do is to let the optimizer compute the gradients to minimize the loss. Phiflow provides a helper function for this: `update_weights`. We provide the neural network, the optimizer, and the function to compute the loss (the first return value of `training_step`). We simply loop `EPOCHS` times over enumerating the full dataset from the `dataloader`. The progress bar `pbar` below is simply eyecandy to track the progress of the training. Because the jit compilation of the simulator is triggered in the very first step takes a bit longer, but the subsequent ones should be substantially faster. The code below also saves the network state every epoch _N_ in a file `net-N.pickle`."
      ]
    },
    {
      "cell_type": "code",
      "execution_count": 13,
      "metadata": {
        "colab": {
          "base_uri": "https://localhost:8080/"
        },
        "id": "AJn5a5k31FoH",
        "outputId": "c7c53ed5-97be-49ef-8aac-1e7bb425ba4b",
        "scrolled": true
      },
      "outputs": [
        {
          "output_type": "stream",
          "name": "stderr",
          "text": [
            "\r  0%|                                                                  | 0/4960 [00:00<?, ?it/s]/tmp/ipython-input-4154370188.py:7: UserWarning: To copy construct from a tensor, it is recommended to use sourceTensor.detach().clone() or sourceTensor.detach().clone().requires_grad_(True), rather than torch.tensor(sourceTensor).\n",
            "  input = torch.tensor(input_cpu, dtype=torch.float32).to(device);\n",
            "/tmp/ipython-input-4154370188.py:8: UserWarning: To copy construct from a tensor, it is recommended to use sourceTensor.detach().clone() or sourceTensor.detach().clone().requires_grad_(True), rather than torch.tensor(sourceTensor).\n",
            "  targets = torch.tensor(targets_cpu, dtype=torch.float32).to(device)\n",
            "/usr/local/lib/python3.12/dist-packages/phiml/math/_optimize.py:640: UserWarning: Possible rank deficiency detected. Matrix might be singular which can lead to convergence problems. Please specify using Solve(rank_deficiency=...).\n",
            "  warnings.warn(\"Possible rank deficiency detected. Matrix might be singular which can lead to convergence problems. Please specify using Solve(rank_deficiency=...).\")\n",
            "/usr/local/lib/python3.12/dist-packages/phiml/backend/torch/_torch_backend.py:873: UserWarning: Sparse CSR tensor support is in beta state. If you miss a functionality in the sparse tensor support, please submit a feature request to https://github.com/pytorch/pytorch/issues. (Triggered internally at /pytorch/aten/src/ATen/SparseCsrTensorImpl.cpp:53.)\n",
            "  return torch.sparse_csr_tensor(row_pointers, column_indices, values, shape, device=values.device)\n",
            "/usr/local/lib/python3.12/dist-packages/phiml/math/_optimize.py:640: UserWarning: Possible rank deficiency detected. Matrix might be singular which can lead to convergence problems. Please specify using Solve(rank_deficiency=...).\n",
            "  warnings.warn(\"Possible rank deficiency detected. Matrix might be singular which can lead to convergence problems. Please specify using Solve(rank_deficiency=...).\")\n",
            "loss 1911.7097:   0%|                                       | 1/4960 [00:09<13:12:35,  9.59s/it]/tmp/ipython-input-4154370188.py:7: UserWarning: To copy construct from a tensor, it is recommended to use sourceTensor.detach().clone() or sourceTensor.detach().clone().requires_grad_(True), rather than torch.tensor(sourceTensor).\n",
            "  input = torch.tensor(input_cpu, dtype=torch.float32).to(device);\n",
            "/tmp/ipython-input-4154370188.py:8: UserWarning: To copy construct from a tensor, it is recommended to use sourceTensor.detach().clone() or sourceTensor.detach().clone().requires_grad_(True), rather than torch.tensor(sourceTensor).\n",
            "  targets = torch.tensor(targets_cpu, dtype=torch.float32).to(device)\n",
            "loss 1408.9048: 100%|█████████████████████████████████████| 4960/4960 [1:01:40<00:00,  1.34it/s]\n"
          ]
        }
      ],
      "source": [
        "EPOCHS = 5\n",
        "\n",
        "pbar = tqdm(initial=0, total=EPOCHS*len(dataloader), ncols=96)\n",
        "\n",
        "for epoch in range(EPOCHS):\n",
        "    for b, (input_cpu, targets_cpu) in enumerate(dataloader):\n",
        "        input = torch.tensor(input_cpu, dtype=torch.float32).to(device);\n",
        "        targets = torch.tensor(targets_cpu, dtype=torch.float32).to(device)\n",
        "\n",
        "        loss, prediction = update_weights(network, optimizer, training_step, [input, targets])\n",
        "\n",
        "        pbar.set_description(\"loss \"+str(np.sum(loss.numpy(\"batch\"))), refresh=False); pbar.update(1)\n",
        "\n",
        "    torch.save(network.state_dict(), \"net-\"+str(epoch)+\".pickle\")\n",
        "\n",
        "pbar.close()"
      ]
    },
    {
      "cell_type": "markdown",
      "metadata": {
        "id": "Wk1Z9PB71FoH"
      },
      "source": [
        "\n",
        "Note that each call to `update_weights` internally performs all 4 interleaved simulation steps and neural network calls, and back-propagates gradients for the whole chain. Due to the order, solver first, then network, the first step does not go back through the solver. However, for the next 3 steps, the first network call will receive feedback whether it's inferred correction influenced the 3 subsequent states towards the right direction or not.\n",
        "\n",
        "With the default parameters, the loss should go down from above 10 initially to around 1.0 (more epochs and larger/deeper networks will bring it down further). The decreasing loss is a good sign, but of course it's even more important to see how the resulting NN-solver combination fares on new inputs. With this training approach we've realized a hybrid solver, consisting of a regular _source_ simulator, and a network operator that was trained to specifically interact with this simulator for a chosen domain of simulation cases.\n"
      ]
    },
    {
      "cell_type": "markdown",
      "source": [
        "上面这段话的意思是，第一步训练后，NN会预测一个值，然后计算一个Loss，这个Loss BP回去后，更新的权重只会用在第二步的推理了，所以是BP不会影响第一步的结果。\n",
        "\n",
        "另外，Solver应该是不可训练的，但是从这里多步回传可以看到，BP的时候，第4步的Loss可以影响到前三步的NN权重，这一点体现了可微物理的意义。\n",
        "\n",
        "根据GPT的说法，NN权重更新是只更新一次的，但是计算图如果因为不可微而断开了，那么会出现的问题是，权重更新值不太一样，加不上前三步计算的梯度了。"
      ],
      "metadata": {
        "id": "osqxISMgp5r1"
      }
    },
    {
      "cell_type": "markdown",
      "source": [
        "计算图来看，应该是这样的：\n",
        "\n",
        "Step1仿真-->NN-->Step2仿真-->NN-->...-->最后一步调用NN"
      ],
      "metadata": {
        "id": "g19b853Kto_g"
      }
    },
    {
      "cell_type": "markdown",
      "metadata": {
        "id": "UlCHHTW_1FoH"
      },
      "source": [
        "## Test evaluation\n",
        "\n",
        "In order to evaluate the performance of our \"AI-powered solver\", we essentially only need to repeat the inner loop of each training iteration for more steps. While we were limited to `msteps` evaluations at training time, we can now run our solver for arbitrary lengths. This is a good test for how well our solver has learned to keep the data within the desired distribution, and represents a generalization test for longer rollouts.\n",
        "\n",
        "We also need a set of new data. Below, we'll use the previously unused last four simulations of the dataset that was downloaded above. We simply instantiate a new dataloader with `sel_sims=[6,7,8,9]`."
      ]
    },
    {
      "cell_type": "code",
      "execution_count": 14,
      "metadata": {
        "id": "RPhPR9-51FoI",
        "outputId": "acdf1d20-80d7-4943-ced9-54ab189590f7",
        "colab": {
          "base_uri": "https://localhost:8080/"
        }
      },
      "outputs": [
        {
          "output_type": "stream",
          "name": "stdout",
          "text": [
            "\u001b[Kdownload completed\t ━━━━━━━━━━━━━━━━━━━━━━━━━━━━━━━━━━━━━━━━━━━━━━━━━━\u001b[38;5;240m\u001b[96m 100%\u001b[0m\n",
            "\u001b[96m\u001b[1mSuccess:\u001b[22m Loaded solver-in-the-loop-wake-flow with 10 simulations (4 selected) and 300 samples each.\u001b[0m\n"
          ]
        }
      ],
      "source": [
        "del dataloader # close hdf5 file handle\n",
        "\n",
        "# get new & unseen test data\n",
        "dataloader_test = pbdl.torch.loader.Dataloader(\"solver-in-the-loop-wake-flow\", 200, batch_size=1, shuffle=True, sel_sims=[6,7,8,9],\n",
        "                                          normalize=False, intermediate_time_steps=True)"
      ]
    },
    {
      "cell_type": "markdown",
      "metadata": {
        "id": "yFu75G9n1FoI"
      },
      "source": [
        "In case you have a pre-trained network, this is a good point to load a model. By default, we assume the training above was completed, so it's not necessary to load anything."
      ]
    },
    {
      "cell_type": "code",
      "execution_count": 15,
      "metadata": {
        "id": "NRJwUnRz1FoI"
      },
      "outputs": [],
      "source": [
        "# optionally load\n",
        "if False:\n",
        "    fn = \"net-\"+str(EPOCHS-1)+\".pickle\" # load last\n",
        "    network.load_state_dict(torch.load(fn, map_location=device, weights_only=True))\n",
        "    print(\"Loaded \"+fn)"
      ]
    },
    {
      "cell_type": "markdown",
      "metadata": {
        "id": "NEu96LeY1FoI"
      },
      "source": [
        "We can reuse a lot of the solver code from above, but in the following, we will consider two simulated versions: for comparison, we'll run one reference simulation in the _source_ manifold (i.e. based on $\\mathcal P_s$, without any corrections applied). The second version is the actual result, we'll repeatedly compute the source solver plus the learned correction.\n",
        "\n",
        "The `run_sim` function below switches between these two variants depending on whether a neural operator is provided in `network`. Without it, it simply runs the source solver and appends the states. With a `network` it runs the full hybrid solver. Both cases compute error w.r.t. reference along the way. For analysis and visualization later on, the function returns the correction and references in addition to the relative errors and the actual states computed by the solver."
      ]
    },
    {
      "cell_type": "code",
      "execution_count": 16,
      "metadata": {
        "id": "RWC0mKNJ1FoI"
      },
      "outputs": [],
      "source": [
        "def run_sim(inputs, targets, steps, network=None):\n",
        "    marker_in, v_in, Re, Re_norm = to_solver(inputs)\n",
        "\n",
        "    simtype = \"With corr.\"\n",
        "    if (network==None): simtype = \"Sim. only\"\n",
        "    print(\"Running test with Re=\"+str(Re)+\", \"+simtype)\n",
        "\n",
        "    prediction = [ [marker_in,v_in] ]\n",
        "    correction = [ [marker_in,v_in] ]\n",
        "    refs = [ v_in ]\n",
        "    errors = []\n",
        "\n",
        "    for i in tqdm(range(steps), desc=simtype, ncols = 64):\n",
        "        marker_sim,v_sim = simulation_step(\n",
        "            marker=prediction[-1][0],\n",
        "            velocity=prediction[-1][1],\n",
        "            Re=Re, resolution=SOURCE_RES[1]  # take Re from constant field\n",
        "        )\n",
        "\n",
        "        if network: # run hybrid solver with trained Neural op\n",
        "            net_in = to_pytorch([marker_sim,v_sim],Re_norm)\n",
        "            net_out = network(net_in)\n",
        "\n",
        "            cy = net_out[:,1,:,:] # pad y\n",
        "            cy = torch.nn.functional.pad(input=cy, pad=(0,0, 0,1), mode='constant', value=0)\n",
        "            cx = net_out[:,0,:,:-1]\n",
        "\n",
        "            v_corr = domain.staggered_grid( math.stack( [\n",
        "                                math.tensor(cy, math.batch('batch'), math.spatial('y, x')),\n",
        "                                math.tensor(cx, math.batch('batch'), math.spatial('y, x')),\n",
        "                            ], math.dual(vector=\"y,x\")\n",
        "                        ) )\n",
        "\n",
        "            prediction += [ [domain.scalar_grid(marker_sim) , v_sim + v_corr] ]\n",
        "            correction += [ [domain.scalar_grid(marker_sim) , v_corr] ]\n",
        "\n",
        "        else: # only low-fidelity solver\n",
        "            prediction += [ [domain.scalar_grid(marker_sim) , v_sim ] ]\n",
        "\n",
        "        refs += [to_phiflow(targets[:,i,...])]\n",
        "        vdiff = prediction[i][1] - refs[-1]\n",
        "\n",
        "        error_phi = field.l1_loss(vdiff)\n",
        "        errors += [float( error_phi.native(\"batch\")[0] / field.l1_loss(refs[-1]).native(\"batch\")[0] )]\n",
        "\n",
        "    return errors, prediction, refs, correction\n"
      ]
    },
    {
      "cell_type": "markdown",
      "metadata": {
        "id": "ysBPP8r21FoI"
      },
      "source": [
        "With `next(iter(dataloader_test))` we'll get a new state from the dataloader with a previously unseen Reynolds number. Then we'll run source and hybrid solver for `ROLLOUT_STEPS` iterations starting from the same initial state. Similar to training, we'll first get an initial state and reference states from the dataloader in `input` and `targets`. (Due to the random sampling, you might need to run this multiple times to e.g. get one of the higher Re cases.)\n",
        "\n"
      ]
    },
    {
      "cell_type": "code",
      "execution_count": 17,
      "metadata": {
        "id": "aA7BRsSZ1FoJ",
        "outputId": "58f820f7-0b92-4fd2-ddd3-60586cae6b4e",
        "colab": {
          "base_uri": "https://localhost:8080/"
        }
      },
      "outputs": [
        {
          "output_type": "stream",
          "name": "stdout",
          "text": [
            "Re  \u001b[94m292.96875\u001b[0m\n"
          ]
        },
        {
          "output_type": "stream",
          "name": "stderr",
          "text": [
            "/tmp/ipython-input-1514360431.py:3: UserWarning: To copy construct from a tensor, it is recommended to use sourceTensor.detach().clone() or sourceTensor.detach().clone().requires_grad_(True), rather than torch.tensor(sourceTensor).\n",
            "  input = torch.tensor(input_cpu, dtype=torch.float32).to(device)\n",
            "/tmp/ipython-input-1514360431.py:4: UserWarning: To copy construct from a tensor, it is recommended to use sourceTensor.detach().clone() or sourceTensor.detach().clone().requires_grad_(True), rather than torch.tensor(sourceTensor).\n",
            "  targets = torch.tensor(targets_cpu, dtype=torch.float32).to(device)\n"
          ]
        }
      ],
      "source": [
        "# get a sample\n",
        "(input_cpu, targets_cpu) = next(iter(dataloader_test))\n",
        "input = torch.tensor(input_cpu, dtype=torch.float32).to(device)\n",
        "targets = torch.tensor(targets_cpu, dtype=torch.float32).to(device)\n",
        "print(\"Re \",math.tensor(input[0,3, 0,0].detach()))"
      ]
    },
    {
      "cell_type": "markdown",
      "metadata": {
        "id": "7kS6jU8j1FoJ"
      },
      "source": [
        "The interesting question of course is: how much does the NN operator actually improve the accuracy of the low-fidelity _source_ solver? This is captured by the relative $L_2$ errors computed each time by the `run_sim` function. It measures the squared distance in comparison to the squared magnitudes of the reference velocities. The cell above directly plots the aggregated errors.\n",
        "\n",
        "Below, we run the hybrid solver with its trained Neural correction operator and the low-fidelity solver alone for comparison.\n",
        "`ROLLOUT_STEPS` below determines the number of time steps to compute with both variants. The cell also directly outputs the mean relative error.\n",
        "Due to the stochastic training and numerical round-off errors, the results can vary slightly over different runs, but in general the hybrid solver with its Neural correction operator should show a significantly reduced numerical error: typically 5-6x lower than the low-fidelity solver.\n",
        "\n",
        "**This shows the central objective of this training setup has been achieved: the hybrid solver yields substantially reduced numerical errors and generalizes to new Reynolds numbers 👍**"
      ]
    },
    {
      "cell_type": "code",
      "execution_count": 18,
      "metadata": {
        "id": "QlsK9rG71FoJ",
        "outputId": "9655a73a-278f-42be-adea-f58653d99c77",
        "colab": {
          "base_uri": "https://localhost:8080/"
        }
      },
      "outputs": [
        {
          "output_type": "stream",
          "name": "stdout",
          "text": [
            "Running test with Re=\u001b[94m292.96875\u001b[0m, Sim. only\n"
          ]
        },
        {
          "output_type": "stream",
          "name": "stderr",
          "text": [
            "\rSim. only:   0%|                        | 0/100 [00:00<?, ?it/s]/usr/local/lib/python3.12/dist-packages/phiml/math/_optimize.py:640: UserWarning: Possible rank deficiency detected. Matrix might be singular which can lead to convergence problems. Please specify using Solve(rank_deficiency=...).\n",
            "  warnings.warn(\"Possible rank deficiency detected. Matrix might be singular which can lead to convergence problems. Please specify using Solve(rank_deficiency=...).\")\n",
            "/usr/local/lib/python3.12/dist-packages/phiml/math/_optimize.py:640: UserWarning: Possible rank deficiency detected. Matrix might be singular which can lead to convergence problems. Please specify using Solve(rank_deficiency=...).\n",
            "  warnings.warn(\"Possible rank deficiency detected. Matrix might be singular which can lead to convergence problems. Please specify using Solve(rank_deficiency=...).\")\n",
            "Sim. only:   1%|▏               | 1/100 [00:01<03:13,  1.96s/it]/usr/local/lib/python3.12/dist-packages/phiml/math/_optimize.py:640: UserWarning: Possible rank deficiency detected. Matrix might be singular which can lead to convergence problems. Please specify using Solve(rank_deficiency=...).\n",
            "  warnings.warn(\"Possible rank deficiency detected. Matrix might be singular which can lead to convergence problems. Please specify using Solve(rank_deficiency=...).\")\n",
            "/usr/local/lib/python3.12/dist-packages/phiml/math/_optimize.py:640: UserWarning: Possible rank deficiency detected. Matrix might be singular which can lead to convergence problems. Please specify using Solve(rank_deficiency=...).\n",
            "  warnings.warn(\"Possible rank deficiency detected. Matrix might be singular which can lead to convergence problems. Please specify using Solve(rank_deficiency=...).\")\n",
            "Sim. only: 100%|██████████████| 100/100 [00:13<00:00,  7.29it/s]\n"
          ]
        },
        {
          "output_type": "stream",
          "name": "stdout",
          "text": [
            "Running test with Re=\u001b[94m292.96875\u001b[0m, With corr.\n"
          ]
        },
        {
          "output_type": "stream",
          "name": "stderr",
          "text": [
            "With corr.:   1%|▏              | 1/100 [00:01<02:08,  1.30s/it]/tmp/ipython-input-1128410743.py:44: UserWarning: Converting a tensor with requires_grad=True to a scalar may lead to unexpected behavior.\n",
            "Consider using tensor.detach() first. (Triggered internally at /pytorch/torch/csrc/autograd/generated/python_variable_methods.cpp:835.)\n",
            "  errors += [float( error_phi.native(\"batch\")[0] / field.l1_loss(refs[-1]).native(\"batch\")[0] )]\n",
            "With corr.: 100%|█████████████| 100/100 [00:16<00:00,  5.97it/s]"
          ]
        },
        {
          "output_type": "stream",
          "name": "stdout",
          "text": [
            "\n",
            " Rel. L2 errors: low-fidelity: 0.32014187294989827  corrected: 0.26289393682032824\n"
          ]
        },
        {
          "output_type": "stream",
          "name": "stderr",
          "text": [
            "\n"
          ]
        }
      ],
      "source": [
        "ROLLOUT_STEPS = 100\n",
        "\n",
        "err_lowfid_only, prediction_lowfid_only, refs, _   = run_sim(input, targets, ROLLOUT_STEPS)\n",
        "err_corrected,   prediction_corrected  , _ , corrs = run_sim(input, targets, ROLLOUT_STEPS, network)\n",
        "print(\"\\n Rel. L2 errors: low-fidelity:\", float(np.mean(err_lowfid_only)),\" corrected:\", float(np.mean(err_corrected)) )"
      ]
    },
    {
      "cell_type": "markdown",
      "metadata": {
        "id": "syC2KPDS1FoJ"
      },
      "source": [
        "Now we'll plot and compare the two versions in more detail. The next graph shows how the errors evolve over time. The relative errors of the low-fidelity solver rise linearly over time, while the hybrid solver yields a much slower increase. For larger networks and successful training runs, it can pretty much suppress any increase, and keep the errors at a very low level. This indicates, that it can successfully nudge the low-fidelity solver to preserve the accuracy of the targets. Note that this job would be much more difficult without the base solver: then the NN would need to do _all_ the work. Here, it can rely on the prediction of the coupled solver, and a small correction typically suffices."
      ]
    },
    {
      "cell_type": "code",
      "execution_count": 19,
      "metadata": {
        "id": "ys_qAMGu1FoK",
        "outputId": "1f6909dc-0771-480c-a82b-e38fb38c0566",
        "colab": {
          "base_uri": "https://localhost:8080/",
          "height": 467
        }
      },
      "outputs": [
        {
          "output_type": "execute_result",
          "data": {
            "text/plain": [
              "<matplotlib.legend.Legend at 0x790cf05c7c50>"
            ]
          },
          "metadata": {},
          "execution_count": 19
        },
        {
          "output_type": "display_data",
          "data": {
            "text/plain": [
              "<Figure size 640x480 with 1 Axes>"
            ],
            "image/png": "[encoded data removed]"
          },
          "metadata": {}
        }
      ],
      "source": [
        "fig = pylab.figure().gca()\n",
        "pltx = np.linspace(0,ROLLOUT_STEPS-1,ROLLOUT_STEPS)\n",
        "fig.plot(pltx, err_lowfid_only, lw=2, color='mediumblue', label='Source')\n",
        "fig.plot(pltx, err_corrected,   lw=2, color='green', label='Hybrid')\n",
        "pylab.xlabel('Time step'); pylab.ylabel('Relative L2 error'); fig.legend()\n"
      ]
    },
    {
      "cell_type": "markdown",
      "metadata": {
        "id": "eDK3M93b1FoK"
      },
      "source": [
        "While the quantified results give an important summary of the performance of our Neural operator, it's important to sanity check these results to make sure the NN works as intended. In the next cell, we'll plot the states of the reference, the low-fidelity solver and the hybrid solver side-by-side. Additionally, we'll plot the errors made by both solvers on the right side."
      ]
    },
    {
      "cell_type": "code",
      "execution_count": 23,
      "metadata": {
        "id": "MZnqSzq21FoK",
        "outputId": "c0d28534-22d9-43c5-ebf5-7c0c54e9b718",
        "colab": {
          "base_uri": "https://localhost:8080/",
          "height": 254
        }
      },
      "outputs": [
        {
          "output_type": "display_data",
          "data": {
            "text/plain": [
              "<Figure size 1600x500 with 8 Axes>"
            ],
            "image/png": "[encoded data removed]"
          },
          "metadata": {}
        }
      ],
      "source": [
        "# which step from which batch to show , by default shows last step from first case\n",
        "STEP = ROLLOUT_STEPS\n",
        "BATCH = 0\n",
        "NUM_SHOW = 8\n",
        "PRINT_STATS = False # optional, print statistics\n",
        "\n",
        "fig, axes = pylab.subplots(1, 4, figsize=(16, 5))\n",
        "i = 0\n",
        "\n",
        "v = refs[STEP].staggered_tensor().numpy('batch,y,x,vector')[BATCH,:,:,0]\n",
        "if PRINT_STATS: print([\"reference \", BATCH, i, np.mean(v),  np.min(v) ,  np.max(v)])\n",
        "axes[i].set_title(f\"Ref\")\n",
        "im=axes[i].imshow( v , origin='lower', cmap='magma') ;\n",
        "pylab.colorbar(im) ; i=i+1; vy_ref=v\n",
        "\n",
        "v = prediction_lowfid_only[STEP][1].staggered_tensor().numpy('batch,y,x,vector')[BATCH,:,:,0]\n",
        "if PRINT_STATS: print([\"low-fid. \", BATCH, i, np.mean(v),  np.min(v) ,  np.max(v)])\n",
        "axes[i].set_title(f\"Low-fid.\")\n",
        "im=axes[i].imshow( v , origin='lower', cmap='magma') ;\n",
        "pylab.colorbar(im) ; i=i+1; vy_lowfid=v\n",
        "\n",
        "v = prediction_corrected[STEP][1].staggered_tensor().numpy('batch,y,x,vector')[BATCH,:,:,0]\n",
        "if PRINT_STATS: print([\"corrected\", BATCH, i, np.mean(v),  np.min(v) ,  np.max(v)])\n",
        "axes[i].set_title(f\"Corr.\")\n",
        "im=axes[i].imshow( v , origin='lower', cmap='magma') ;\n",
        "pylab.colorbar(im) ; i=i+1; vy_corr=v\n",
        "\n",
        "# show error side by side\n",
        "err_lf   = vy_ref - vy_lowfid\n",
        "err_corr = vy_ref - vy_corr\n",
        "v = np.concatenate([err_lf,err_corr], axis=1)\n",
        "axes[i].set_title(f\" Errors: Low-fid & Learned\")\n",
        "im=axes[i].imshow( v , origin='lower', cmap='cividis') ;\n",
        "pylab.colorbar(im) ; i=i+1\n",
        "\n",
        "pylab.tight_layout()"
      ]
    },
    {
      "cell_type": "markdown",
      "metadata": {
        "id": "VCs1K3uo1FoK"
      },
      "source": [
        "This shows very clearly how the pure source simulation in the middle deviates from the reference on the left. The learned version stays much closer to the reference solution.\n",
        "\n",
        "The two per-cell error images on the right also illustrate this: the source version has much larger errors (i.e. brighter colors) that show how it systematically underestimates the vortices that should form. The error for the learned version is much more evenly distributed and significantly smaller in magnitude.\n",
        "\n",
        "This concludes our evaluation. Note that the improved behavior of the AI-powered hybrid solver can be difficult to reliably measure with simple vector norms such as an MAE or $L^2$ norm. To improve this, we'd need to employ other, domain-specific metrics. In this case, metrics for fluids based on vorticity and turbulence properties of the flow would be applicable. However, in this text, we instead want to focus on DL-related topics and target another inverse problem with differentiable physics solvers in the next chapter.\n",
        "\n"
      ]
    },
    {
      "cell_type": "markdown",
      "metadata": {
        "id": "VuzDHrc21FoL"
      },
      "source": [
        "\n",
        "## Next steps\n",
        "\n",
        "* Turn off the differentiable physics training (by setting `msteps=1`), and compare it with the unrolled version. This yields a _supervised_ training, as no gradients need to flow through the solver anymore. The relative errors will be substantially larger.\n",
        "\n",
        "* Likewise, try training a network with a larger `msteps` settings, e.g., 8 or 16. Note that due to the recurrent nature of the training, you'll probably have to load a pre-trained state to stabilize the first iterations (this effectively adds \"curriculum learning\").\n",
        "\n",
        "* Use the external github code to generate tougher test data, and run your trained NN on these cases. You'll see that a reduced training error not always directly correlates with an improved test performance.\n",
        "\n"
      ]
    },
    {
      "cell_type": "markdown",
      "source": [
        "其实这里我还是没看懂，为什么MSTEPS =1就是禁用PDL了，而且，为什么训练的时候用的是3步，但是实际预测可以预测任意步长呢。"
      ],
      "metadata": {
        "id": "1gvaTOomxZAL"
      }
    }
  ],
  "metadata": {
    "accelerator": "GPU",
    "colab": {
      "gpuType": "T4",
      "provenance": []
    },
    "kernelspec": {
      "display_name": "Python 3",
      "name": "python3"
    },
    "language_info": {
      "codemirror_mode": {
        "name": "ipython",
        "version": 3
      },
      "file_extension": ".py",
      "mimetype": "text/x-python",
      "name": "python",
      "nbconvert_exporter": "python",
      "pygments_lexer": "ipython3",
      "version": "3.12.4"
    }
  },
  "nbformat": 4,
  "nbformat_minor": 0
}